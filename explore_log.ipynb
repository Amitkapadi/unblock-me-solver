{
 "cells": [
  {
   "cell_type": "code",
   "execution_count": null,
   "metadata": {
    "collapsed": true
   },
   "outputs": [],
   "source": [
    "import classes\n",
    "import utils\n",
    "\n",
    "import numpy as np\n",
    "import matplotlib.pyplot as plt\n",
    "%matplotlib inline"
   ]
  },
  {
   "cell_type": "code",
   "execution_count": null,
   "metadata": {},
   "outputs": [],
   "source": [
    "pkl_filepath = './unblock_log.pkl'\n",
    "log = utils.load_if_pickled(pkl_filepath)\n",
    "print len(log)"
   ]
  },
  {
   "cell_type": "code",
   "execution_count": null,
   "metadata": {},
   "outputs": [],
   "source": [
    "screen_times = [rundata.screen_time for rundata in log]\n",
    "init_times = [rundata.init_time for rundata in log]\n",
    "solve_times = [rundata.solve_time for rundata in log]\n",
    "run_times = [rundata.run_time for rundata in log]\n",
    "\n",
    "f = plt.hist(screen_times, 30)\n",
    "f = plt.hist(init_times, 30)\n",
    "f = plt.hist(solve_times, 30)\n",
    "f = plt.hist(run_times, 30)"
   ]
  },
  {
   "cell_type": "code",
   "execution_count": null,
   "metadata": {},
   "outputs": [],
   "source": [
    "print np.mean(screen_times)\n",
    "print np.mean(init_times)\n",
    "print np.mean(solve_times)\n",
    "print np.mean(run_times)"
   ]
  }
 ],
 "metadata": {
  "kernelspec": {
   "display_name": "Python 2",
   "language": "python",
   "name": "python2"
  },
  "language_info": {
   "codemirror_mode": {
    "name": "ipython",
    "version": 2
   },
   "file_extension": ".py",
   "mimetype": "text/x-python",
   "name": "python",
   "nbconvert_exporter": "python",
   "pygments_lexer": "ipython2",
   "version": "2.7.11"
  }
 },
 "nbformat": 4,
 "nbformat_minor": 2
}
