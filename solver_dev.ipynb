{
 "cells": [
  {
   "cell_type": "markdown",
   "metadata": {},
   "source": [
    "# Notebook for development of the solver"
   ]
  },
  {
   "cell_type": "code",
   "execution_count": null,
   "metadata": {
    "collapsed": true
   },
   "outputs": [],
   "source": [
    "import matplotlib.pyplot as plt\n",
    "% matplotlib inline\n",
    "\n",
    "import numpy as np\n",
    "import copy\n",
    "import collections"
   ]
  },
  {
   "cell_type": "code",
   "execution_count": null,
   "metadata": {
    "collapsed": true
   },
   "outputs": [],
   "source": [
    "def read_image():\n",
    "    im = plt.imread('./screencap.png')\n",
    "    im = im[:, :, :3]\n",
    "    #     plt.imshow(im)\n",
    "    return im\n",
    "\n",
    "# [[0, 1, 1, 1, 1, 1],\n",
    "#  [0, 1, 1, 1, 1, 0],\n",
    "#  [2, 2, 1, 0, 0, 1],\n",
    "#  [0, 0, 1, 0, 1, 1],\n",
    "#  [1, 1, 1, 1, 1, 1],\n",
    "#  [1, 1, 1, 0, 0, 0]]"
   ]
  },
  {
   "cell_type": "code",
   "execution_count": null,
   "metadata": {
    "collapsed": true
   },
   "outputs": [],
   "source": [
    "# from sklearn.cluster import KMeans\n",
    "# import numpy as np\n",
    "\n",
    "# X = colors\n",
    "# kmeans = KMeans(n_clusters=3, random_state=0).fit(X)\n",
    "# kmeans.cluster_centers_\n",
    "\n",
    "def get_type(color):\n",
    "    r, g, b = color\n",
    "        \n",
    "    empty = [ 0.41390375,  0.28627452,  0.11515152]\n",
    "    block = [ 0.89002558,  0.48661553,  0.0054561 ]\n",
    "    red = [ 0.88627452,  0.        ,  0.        ]\n",
    "    return np.argmin([np.linalg.norm(color - centre) for centre in [empty, block, red]])"
   ]
  },
  {
   "cell_type": "code",
   "execution_count": null,
   "metadata": {
    "collapsed": true
   },
   "outputs": [],
   "source": [
    "def is_wall(line):\n",
    "    grad = line[1:] - line[:-1] \n",
    "    grad_norms = np.sum(grad**2, axis=1)\n",
    "    return max(grad_norms) > 0.01\n",
    "\n",
    "#     plt.figure()\n",
    "#     plt.plot(grad_norms)\n",
    "#     print grad_norms.shape\n",
    "#     print np.linalg.norm(grad, ord='fro')"
   ]
  },
  {
   "cell_type": "code",
   "execution_count": null,
   "metadata": {
    "collapsed": true
   },
   "outputs": [],
   "source": [
    "def get_string_rep(grid, wall_grid_x, wall_grid_y):\n",
    "    string = [['' for _ in range(6)] for _ in range(6)]\n",
    "    vert_counter = 0\n",
    "    horiz_counter = 0\n",
    "\n",
    "    for j in range(6):\n",
    "        for i in range(6):\n",
    "            \n",
    "            if string[j][i]:\n",
    "                continue\n",
    "                \n",
    "            if grid[j][i] == 0:\n",
    "                string[j][i] = 'e'\n",
    "            elif grid[j][i] == 2:\n",
    "                string[j][i] = 'r'\n",
    "\n",
    "            elif wall_grid_x[j][i]:\n",
    "                string[j][i] = 'v{}'.format(vert_counter)\n",
    "                j_temp = j+1\n",
    "                while not wall_grid_y[j_temp-1][i]:\n",
    "                    string[j_temp][i] = string[j][i]      \n",
    "                    j_temp += 1\n",
    "                vert_counter += 1\n",
    "            else:\n",
    "                string[j][i] = 'h{}'.format(horiz_counter)\n",
    "                i_temp = i+1\n",
    "                while not wall_grid_x[j][i_temp-1]:\n",
    "                    string[j][i_temp] = string[j][i]      \n",
    "                    i_temp += 1\n",
    "                horiz_counter += 1\n",
    "                \n",
    "    return string\n",
    "\n",
    "def pprint(string):\n",
    "    for row in string:\n",
    "        for elem in row:\n",
    "            print '{:4}'.format(elem),\n",
    "        print ''\n",
    "    print ''"
   ]
  },
  {
   "cell_type": "code",
   "execution_count": null,
   "metadata": {
    "collapsed": true
   },
   "outputs": [],
   "source": [
    "def get_moves(string):\n",
    "    moves = []\n",
    "    for j in range(6):\n",
    "        for i in range(6):\n",
    "            if string[j][i] == 'e':\n",
    "                directions = [(0, 1), (0, -1), (1, 0), (-1, 0)]\n",
    "                neighbors = [(j + direc[0], i +direc[1]) for direc in directions]\n",
    "                neighbors = [(y, x) for (y, x) in neighbors if 0<=x<6 and 0<=y<6]\n",
    "#                 print j, i, neighbors\n",
    "                dir_map = {(0, 1): ['h', 'r'],\n",
    "                           (0, -1): ['h', 'r'],\n",
    "                           (1, 0): 'v',\n",
    "                           (-1, 0): 'v',                           \n",
    "                          }\n",
    "                for (y, x) in neighbors:\n",
    "                    direc = (j-y, i-x)\n",
    "                    if string[y][x][0] in dir_map[direc]:\n",
    "                        move = (j, i, direc)\n",
    "                        moves.append(move)\n",
    "                        \n",
    "    return moves\n",
    "                        \n",
    "    \n",
    "def apply_move(old_string, move):\n",
    "    string = copy.deepcopy(old_string)\n",
    "    \n",
    "    j, i, direc = move\n",
    "    dy, dx = direc\n",
    "    \n",
    "    label = string[j-dy][i-dx]\n",
    "    \n",
    "    j = j - dy\n",
    "    i = i - dx\n",
    "    while 0<=j<6 and 0<=i<6 and string[j][i] == label:\n",
    "        string[j][i] = 'e'\n",
    "        string[j+dy][i+dx] = label\n",
    "        j = j - dy\n",
    "        i = i - dx\n",
    "        \n",
    "    return string\n",
    "\n",
    "\n",
    "def get_neighbors(string):\n",
    "    moves = get_moves(string)\n",
    "    neighbors = [apply_move(string, move) for move in moves]\n",
    "    return neighbors, moves"
   ]
  },
  {
   "cell_type": "code",
   "execution_count": null,
   "metadata": {
    "collapsed": true
   },
   "outputs": [],
   "source": [
    "def hashed(string):\n",
    "    return ''.join([' '.join(row) for row in string])"
   ]
  },
  {
   "cell_type": "code",
   "execution_count": null,
   "metadata": {
    "collapsed": true
   },
   "outputs": [],
   "source": [
    "def check_solved(string):\n",
    "    return (string[2][4] == 'r' and string[2][5] == 'r')"
   ]
  },
  {
   "cell_type": "code",
   "execution_count": null,
   "metadata": {
    "collapsed": true
   },
   "outputs": [],
   "source": [
    "def bfs(start):\n",
    "    visited = {}\n",
    "    back_pointer = {}\n",
    "    queue = collections.deque([start])\n",
    "    visited[hashed(start)] = True\n",
    "    \n",
    "    while len(queue) > 0:\n",
    "        node = queue.popleft()\n",
    "        neighbors, moves = get_neighbors(node)\n",
    "        for neighbor, move in zip(neighbors, moves):\n",
    "            if check_solved(neighbor):\n",
    "                back_pointer[hashed(neighbor)] = node, move\n",
    "                return back_pointer, neighbor\n",
    "                \n",
    "            if hashed(neighbor) in visited:\n",
    "                continue\n",
    "            else:\n",
    "                queue.append(neighbor)\n",
    "                visited[hashed(neighbor)] = True \n",
    "                back_pointer[hashed(neighbor)] = node, move\n",
    "                \n",
    "    return False, None"
   ]
  },
  {
   "cell_type": "code",
   "execution_count": null,
   "metadata": {
    "collapsed": true
   },
   "outputs": [],
   "source": [
    "def get_path(back_pointer, start, final):\n",
    "    path = [(final, None)]\n",
    "    while path[-1][0] != start:\n",
    "        prev_node, prev_move = path[-1]\n",
    "        node, move = back_pointer[hashed(prev_node)]\n",
    "        path.append((node, move))\n",
    "    return list(reversed(path))"
   ]
  },
  {
   "cell_type": "code",
   "execution_count": null,
   "metadata": {
    "collapsed": true,
    "scrolled": false
   },
   "outputs": [],
   "source": [
    "def get_swipes(path):\n",
    "    swipes = []\n",
    "    for node, move in path:\n",
    "        x, y, direc = move\n",
    "        dx, dy = direc\n",
    "        x1, y1 = x - dx, y - dy\n",
    "        x2, y2 = x, y\n",
    "        swipe = (x1, y1, x2, y2)\n",
    "        swipes.append(swipe)\n",
    "    return swipes"
   ]
  },
  {
   "cell_type": "code",
   "execution_count": null,
   "metadata": {
    "collapsed": true
   },
   "outputs": [],
   "source": [
    "im = read_image()\n",
    " \n",
    "X = [127, 294, 461, 628, 795, 962]\n",
    "Y = [633, 800, 967, 1134, 1301, 1469]\n",
    "\n",
    "grid =[[None for _ in range(6)] for _ in range(6)]\n",
    "\n",
    "colors = []\n",
    "for i, y in enumerate(Y):\n",
    "    for j, x in enumerate(X):\n",
    "        color = im[y, x, :]\n",
    "        grid[i][j] = get_type(color)\n",
    "        colors.append(color)\n",
    "        \n",
    "wall_grid_x = [[True for i in range(6)] for j in range(6)]\n",
    "wall_grid_y = [[True for i in range(6)] for j in range(6)]\n",
    "\n",
    "for j in range(6):\n",
    "    for i in range(5):\n",
    "        line = im[Y[j], X[i]:X[i+1], :]\n",
    "        wall_grid_x[j][i] = is_wall(line)\n",
    "\n",
    "for j in range(5):\n",
    "    for i in range(6):\n",
    "        line = im[Y[j]:Y[j+1], X[i], :]\n",
    "        wall_grid_y[j][i] = is_wall(line)       \n",
    "\n",
    "string = get_string_rep(grid, wall_grid_x, wall_grid_y)\n",
    "# pprint(string)\n",
    "\n",
    "neighbors = get_neighbors(string)\n",
    "\n",
    "# for neighbor in neighbors:\n",
    "#     pprint(neighbor)\n",
    "#     print ''\n",
    "\n",
    "back_pointer, final = bfs(string)\n",
    "\n",
    "start = string\n",
    "path = get_path(back_pointer, start, final)\n",
    "swipes = get_swipes(path[:-1])\n",
    "swipes.append((2, 4, 2, 5))"
   ]
  },
  {
   "cell_type": "code",
   "execution_count": null,
   "metadata": {},
   "outputs": [],
   "source": [
    "swipes"
   ]
  }
 ],
 "metadata": {
  "kernelspec": {
   "display_name": "Python 2",
   "language": "python",
   "name": "python2"
  },
  "language_info": {
   "codemirror_mode": {
    "name": "ipython",
    "version": 2
   },
   "file_extension": ".py",
   "mimetype": "text/x-python",
   "name": "python",
   "nbconvert_exporter": "python",
   "pygments_lexer": "ipython2",
   "version": "2.7.11"
  }
 },
 "nbformat": 4,
 "nbformat_minor": 2
}
